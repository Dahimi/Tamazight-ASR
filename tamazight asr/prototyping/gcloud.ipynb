{
 "cells": [
  {
   "cell_type": "code",
   "execution_count": 3,
   "metadata": {},
   "outputs": [],
   "source": [
    "from google.cloud import vision\n",
    "import os\n",
    "os.environ[\"GOOGLE_APPLICATION_CREDENTIALS\"] = r\"C:\\Users\\Soufiane.DAHIMI\\Projects\\ML & DL\\Tamazight ASR\\tamazight asr\\prototyping\\google-cloud-vision-key.json\"\n"
   ]
  },
  {
   "cell_type": "code",
   "execution_count": 4,
   "metadata": {},
   "outputs": [
    {
     "name": "stdout",
     "output_type": "stream",
     "text": [
      "Texts:\n",
      "\n",
      "\"السلام عليكم يا جماعة\n",
      "عليكم السلام\"\n",
      "bounds: (143,11),(289,11),(289,53),(143,53)\n",
      "\n",
      "\"السلام\"\n",
      "bounds: (246,13),(289,13),(289,29),(246,29)\n",
      "\n",
      "\"عليكم\"\n",
      "bounds: (205,14),(240,14),(240,29),(205,29)\n",
      "\n",
      "\"يا\"\n",
      "bounds: (190,14),(200,14),(200,29),(190,29)\n",
      "\n",
      "\"جماعة\"\n",
      "bounds: (143,14),(183,14),(183,30),(143,30)\n",
      "\n",
      "\"عليكم\"\n",
      "bounds: (219,36),(254,36),(254,53),(219,53)\n",
      "\n",
      "\"السلام\"\n",
      "bounds: (171,36),(215,36),(215,53),(171,53)\n"
     ]
    }
   ],
   "source": [
    "\n",
    "\n",
    "def detect_text(path):\n",
    "    \"\"\"Detects text in the file.\"\"\"\n",
    "    client = vision.ImageAnnotatorClient()\n",
    "    with open(path, \"rb\") as image_file:\n",
    "        content = image_file.read()\n",
    "    image = vision.Image(content=content)\n",
    "\n",
    "    response = client.text_detection(image=image)\n",
    "    texts = response.text_annotations\n",
    "    print(\"Texts:\")\n",
    "\n",
    "    for text in texts:\n",
    "        print(f'\\n\"{text.description}\"')\n",
    "\n",
    "    if response.error.message:\n",
    "        raise Exception(\n",
    "            \"{}\\nFor more info on error messages, check: \"\n",
    "            \"https://cloud.google.com/apis/design/errors\".format(response.error.message)\n",
    "        )\n",
    "\n",
    "detect_text(\"clean_frame.jpg\")"
   ]
  },
  {
   "cell_type": "code",
   "execution_count": null,
   "metadata": {},
   "outputs": [],
   "source": []
  }
 ],
 "metadata": {
  "kernelspec": {
   "display_name": "mlops",
   "language": "python",
   "name": "python3"
  },
  "language_info": {
   "codemirror_mode": {
    "name": "ipython",
    "version": 3
   },
   "file_extension": ".py",
   "mimetype": "text/x-python",
   "name": "python",
   "nbconvert_exporter": "python",
   "pygments_lexer": "ipython3",
   "version": "3.12.3"
  }
 },
 "nbformat": 4,
 "nbformat_minor": 2
}
